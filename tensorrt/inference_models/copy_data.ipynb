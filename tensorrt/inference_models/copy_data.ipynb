{
 "cells": [
  {
   "cell_type": "code",
   "execution_count": 4,
   "id": "e96a136d-2937-43cd-bdee-3b5d3049352f",
   "metadata": {},
   "outputs": [],
   "source": [
    "import numpy as np\n",
    "import os\n",
    "import shutil"
   ]
  },
  {
   "cell_type": "code",
   "execution_count": 2,
   "id": "a9049627-bef4-49e4-b7b9-79414e6453bd",
   "metadata": {},
   "outputs": [],
   "source": [
    "BASE_PATH = \"/home/talmo/gdrive\"\n",
    "\n",
    "\n",
    "mice_of_centroid = \"sleap-data/datasets/wang_4mice_john/labels.full/models.random_split1/centroid.210507_132508.centroid.n=900\"\n",
    "mice_of_td = \"sleap-data/experiments/best_model_replicates/mice_of_td.210509_231024.centered_instance.n=900\"\n",
    "mice_of_clips = \"\"\"\n",
    "sleap-data/datasets/wang_4mice_john/clips/OFTephys-0055-08@14616-18736.mp4\n",
    "sleap-data/datasets/wang_4mice_john/clips/OFTsocialgroup-0000-00@117000-121700.mp4\n",
    "sleap-data/datasets/wang_4mice_john/clips/OFTsocial5mice-0000-00.mp4.old.predictions@3700-6260.mp4\n",
    "\"\"\".strip().split()\n",
    "\n",
    "\n",
    "flies13_centroid = \"sleap-data/datasets/wt_gold.13pt/models.tracking_split2/centroid.fast.210504_182918.centroid.n=1800\"\n",
    "flies13_td = \"sleap-data/datasets/wt_gold.13pt/models.tracking_split2/td_fast.210505_012601.centered_instance.n=1800\"\n",
    "flies13_td_id = \"sleap-data/datasets/wt_gold.13pt/models.tracking_split2/td_id.fast.v2.210519_111253.multi_class_topdown.n=1800\"\n",
    "flies13_clips = \"\"\"\n",
    "sleap-data/datasets/wt_gold.13pt/clips/single_fly@100000-110000.mp4\n",
    "sleap-data/datasets/wt_gold.13pt/clips/190719_090330_wt_18159206_rig1.2@15000-17560.mp4\n",
    "sleap-data/datasets/wt_gold.13pt/clips/three_flies@8800-11000.mp4\n",
    "sleap-data/datasets/wt_gold.13pt/clips/four_flies@1000-11000.mp4\n",
    "sleap-data/datasets/wt_gold.13pt/clips/eight_flies@180000-200000.mp4\n",
    "\"\"\".strip().split()\n",
    "\n",
    "\n",
    "fly32_single = \"sleap-data/datasets/BermanFlies/models.random_split1/single.fast_unet32.210524_171130.single_instance.n=1350\"\n",
    "fly32_clips = [\"sleap-data/datasets/BermanFlies/clips/072212_163153@10000-13200.mp4\"]\n",
    "\n",
    "\n",
    "gerbils_centroid = \"sleap-data/datasets/nyu-gerbils/cohort1_compressedTalmo_23vids_march_7_to_march_17/models.random_split1.day001/centroid.210504_225945.centroid.n=383\"\n",
    "gerbils_td_id = \"sleap-data/datasets/nyu-gerbils/cohort1_compressedTalmo_23vids_march_7_to_march_17/models.random_split1.day001/td_id.210505_002058.multi_class_topdown.n=383\"\n",
    "gerbils_clips = [\"sleap-data/datasets/nyu-gerbils/clips/2020-3-10_daytime_5mins_compressedTalmo@3200-5760.mp4\"]"
   ]
  },
  {
   "cell_type": "code",
   "execution_count": 3,
   "id": "c0f87b25-742c-400f-a213-8fd7ca75956c",
   "metadata": {},
   "outputs": [
    {
     "name": "stdout",
     "output_type": "stream",
     "text": [
      "CPU times: user 13.6 s, sys: 547 ms, total: 14.2 s\n",
      "Wall time: 3.87 s\n"
     ]
    }
   ],
   "source": [
    "%%time\n",
    "from video import read_frames, save_frames\n",
    "\n",
    "\n",
    "f0, f1 = 10000, 10000+3200\n",
    "imgs = read_frames(f\"{BASE_PATH}/sleap-data/datasets/BermanFlies/videos/072212_163153.mp4\", np.arange(f0, f1))\n",
    "\n",
    "os.makedirs(\"sleap-data/datasets/BermanFlies/clips\", exist_ok=True)\n",
    "save_frames(imgs, f\"sleap-data/datasets/BermanFlies/clips/072212_163153@{f0}-{f1}.mp4\")"
   ]
  },
  {
   "cell_type": "code",
   "execution_count": 12,
   "id": "95e81aae-07be-49e4-b17c-90c18b77fe7b",
   "metadata": {},
   "outputs": [
    {
     "data": {
      "text/plain": [
       "'sleap-data/datasets/BermanFlies/clips/072212_163153@10000-13200.mp4'"
      ]
     },
     "execution_count": 12,
     "metadata": {},
     "output_type": "execute_result"
    }
   ],
   "source": [
    "f\"sleap-data/datasets/BermanFlies/clips/072212_163153@{f0}-{f1}.mp4\""
   ]
  },
  {
   "cell_type": "code",
   "execution_count": 5,
   "id": "3becdc3d-7c63-4bd7-9f18-669907c3a994",
   "metadata": {},
   "outputs": [],
   "source": [
    "os.makedirs(\"sleap-data/datasets/wang_4mice_john/clips\", exist_ok=True)\n",
    "\n",
    "clips = \"\"\"\n",
    "sleap-data/datasets/wang_4mice_john/clips/OFTephys-0055-08@14616-18736.mp4\n",
    "sleap-data/datasets/wang_4mice_john/clips/OFTsocialgroup-0000-00@117000-121700.mp4\n",
    "sleap-data/datasets/wang_4mice_john/clips/OFTsocial5mice-0000-00.mp4.old.predictions@3700-6260.mp4\n",
    "\"\"\".strip().split()\n",
    "\n",
    "for p in clips:\n",
    "    shutil.copyfile(f\"{BASE_PATH}/{p}\", p)"
   ]
  },
  {
   "cell_type": "code",
   "execution_count": 8,
   "id": "7a3bcfba-d980-4f46-bb40-f3ff5b152923",
   "metadata": {},
   "outputs": [],
   "source": [
    "os.makedirs(\"sleap-data/datasets/wt_gold.13pt/clips\", exist_ok=True)\n",
    "\n",
    "clips = \"\"\"\n",
    "sleap-data/datasets/wt_gold.13pt/clips/single_fly@100000-110000.mp4\n",
    "sleap-data/datasets/wt_gold.13pt/clips/190719_090330_wt_18159206_rig1.2@15000-17560.mp4\n",
    "sleap-data/datasets/wt_gold.13pt/clips/three_flies@8800-16800.mp4\n",
    "sleap-data/datasets/wt_gold.13pt/clips/four_flies@1000-11000.mp4\n",
    "sleap-data/datasets/wt_gold.13pt/clips/eight_flies@180000-200000.mp4\n",
    "\"\"\".strip().split()\n",
    "\n",
    "for p in clips:\n",
    "    shutil.copyfile(f\"{BASE_PATH}/{p}\", p)"
   ]
  },
  {
   "cell_type": "code",
   "execution_count": 11,
   "id": "8657b239-4524-458f-84a2-869af4b47fe2",
   "metadata": {},
   "outputs": [],
   "source": [
    "models = \"\"\"\n",
    "sleap-data/datasets/wang_4mice_john/labels.full/models.random_split1/centroid.210507_132508.centroid.n=900\n",
    "sleap-data/experiments/best_model_replicates/mice_of_td.210509_231024.centered_instance.n=900\n",
    "sleap-data/datasets/wt_gold.13pt/models.tracking_split2/centroid.fast.210504_182918.centroid.n=1800\n",
    "sleap-data/datasets/wt_gold.13pt/models.tracking_split2/td_fast.210505_012601.centered_instance.n=1800\n",
    "sleap-data/datasets/wt_gold.13pt/models.tracking_split2/td_id.fast.v2.210519_111253.multi_class_topdown.n=1800\n",
    "sleap-data/datasets/BermanFlies/models.random_split1/single.fast_unet32.210524_171130.single_instance.n=1350\n",
    "\"\"\".strip().split()\n",
    "\n",
    "for m in models:\n",
    "    shutil.copytree(f\"{BASE_PATH}/{m}\", m)"
   ]
  }
 ],
 "metadata": {
  "kernelspec": {
   "display_name": "Python 3",
   "language": "python",
   "name": "python3"
  },
  "language_info": {
   "codemirror_mode": {
    "name": "ipython",
    "version": 3
   },
   "file_extension": ".py",
   "mimetype": "text/x-python",
   "name": "python",
   "nbconvert_exporter": "python",
   "pygments_lexer": "ipython3",
   "version": "3.6.13"
  }
 },
 "nbformat": 4,
 "nbformat_minor": 5
}
