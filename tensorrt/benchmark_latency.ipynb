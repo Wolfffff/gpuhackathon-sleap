{
 "cells": [
  {
   "cell_type": "code",
   "execution_count": 1,
   "id": "01c4f240-6d93-4b9b-9b55-15b5bbc05ad3",
   "metadata": {},
   "outputs": [],
   "source": [
    "# Disable tensorflow spam (needs to happen before tensorflow gets imported)\n",
    "import os\n",
    "os.environ[\"TF_CPP_MIN_LOG_LEVEL\"] = \"3\"  # set to \"2\" to see TensorRT errors\n",
    "import logging\n",
    "logging.getLogger(\"tensorflow\").setLevel(logging.ERROR)\n",
    "logging.getLogger(\"tensorflow\").addHandler(logging.NullHandler(logging.ERROR))\n",
    "\n",
    "import numpy as np\n",
    "import tensorflow as tf\n",
    "import cv2\n",
    "from time import perf_counter\n",
    "from trtutils import OptimizedModel\n",
    "import system\n",
    "import argparse\n",
    "import pandas as pd\n",
    "\n",
    "system.disable_preallocation()\n",
    "# system.summary()\n",
    "\n",
    "\n",
    "def log_result(data, filename=\"benchmark.csv\"):\n",
    "    \"\"\"Append a dictionary of scalar keys as a row to a CSV file.\"\"\"\n",
    "    df = pd.DataFrame({k: [v] for k, v in data.items()})\n",
    "    \n",
    "    if os.path.exists(filename):\n",
    "        df = pd.concat([\n",
    "            pd.read_csv(filename),\n",
    "            df,\n",
    "        ])\n",
    "    df.to_csv(filename, index=False)\n",
    "\n",
    "\n",
    "def read_frames(video_path, fidxs=None, grayscale=True):\n",
    "    \"\"\"Read frames from a video file.\n",
    "    \n",
    "    Args:\n",
    "        video_path: Path to MP4\n",
    "        fidxs: List of frame indices or None to read all frames (default: None)\n",
    "        grayscale: Keep only one channel of the images (default: True)\n",
    "    \n",
    "    Returns:\n",
    "        Loaded images in array of shape (n_frames, height, width, channels) and dtype uint8.\n",
    "    \"\"\"\n",
    "    vr = cv2.VideoCapture(video_path)\n",
    "    if fidxs is None:\n",
    "        fidxs = np.arange(vr.get(cv2.CAP_PROP_FRAME_COUNT))\n",
    "    frames = []\n",
    "    for fidx in fidxs:\n",
    "        vr.set(cv2.CAP_PROP_POS_FRAMES, fidx)\n",
    "        img = vr.read()[1]\n",
    "        if grayscale:\n",
    "            img = img[:, :, [0]]\n",
    "        frames.append(img)\n",
    "    return np.stack(frames, axis=0)"
   ]
  },
  {
   "cell_type": "code",
   "execution_count": 2,
   "id": "df7cff0b-535d-4e4c-b2a8-10d7594c9917",
   "metadata": {},
   "outputs": [
    {
     "name": "stdout",
     "output_type": "stream",
     "text": [
      "CPU times: user 14min 14s, sys: 36.7 s, total: 14min 51s\n",
      "Wall time: 4min 21s\n"
     ]
    }
   ],
   "source": [
    "%%time\n",
    "opt_model_path, save_path = \"data/inference_td_trt_FP16\", \"latency.inference_td_trt_FP16.csv\"\n",
    "# opt_model_path, save_path = \"data/inference_td_trt_FP32\", \"latency.inference_td_trt_FP32.csv\"\n",
    "test_data = \"data/190719_090330_wt_18159206_rig1.2@15000-17560.mp4\"\n",
    "batch_sizes = [1, 16]\n",
    "\n",
    "reps = 5\n",
    "N = 1280\n",
    "\n",
    "imgs = read_frames(test_data, np.arange(N))\n",
    "opt_model = OptimizedModel(saved_model_dir=opt_model_path)\n",
    "\n",
    "res = None\n",
    "for batch_size in batch_sizes:\n",
    "    dts = []\n",
    "    for rep in range(reps + 1):\n",
    "        for i in range(0, N, batch_size):\n",
    "            t0 = perf_counter()\n",
    "            opt_model.predict(imgs[i:(i+batch_size)])\n",
    "            dt = perf_counter() - t0\n",
    "            if rep > 0:\n",
    "                dts.append(dt)\n",
    "    dts = np.array(dts)\n",
    "    \n",
    "    res_ = pd.DataFrame({\"batch_size\": np.full(dts.shape, batch_size), \"dts\": dts})\n",
    "    if res is None:\n",
    "        res = res_\n",
    "    else:\n",
    "        res = pd.concat([res, res_])\n",
    "\n",
    "res[\"fps\"] = res[\"batch_size\"] / res[\"dts\"]\n",
    "res.to_csv(save_path, index=False)"
   ]
  },
  {
   "cell_type": "code",
   "execution_count": 3,
   "id": "c6657810-5abd-4709-bead-4e6749ccb896",
   "metadata": {},
   "outputs": [
    {
     "data": {
      "text/html": [
       "<div>\n",
       "<style scoped>\n",
       "    .dataframe tbody tr th:only-of-type {\n",
       "        vertical-align: middle;\n",
       "    }\n",
       "\n",
       "    .dataframe tbody tr th {\n",
       "        vertical-align: top;\n",
       "    }\n",
       "\n",
       "    .dataframe thead th {\n",
       "        text-align: right;\n",
       "    }\n",
       "</style>\n",
       "<table border=\"1\" class=\"dataframe\">\n",
       "  <thead>\n",
       "    <tr style=\"text-align: right;\">\n",
       "      <th></th>\n",
       "      <th>dts</th>\n",
       "      <th>fps</th>\n",
       "    </tr>\n",
       "    <tr>\n",
       "      <th>batch_size</th>\n",
       "      <th></th>\n",
       "      <th></th>\n",
       "    </tr>\n",
       "  </thead>\n",
       "  <tbody>\n",
       "    <tr>\n",
       "      <th>1</th>\n",
       "      <td>0.003359</td>\n",
       "      <td>298.019274</td>\n",
       "    </tr>\n",
       "    <tr>\n",
       "      <th>16</th>\n",
       "      <td>0.020879</td>\n",
       "      <td>766.506251</td>\n",
       "    </tr>\n",
       "  </tbody>\n",
       "</table>\n",
       "</div>"
      ],
      "text/plain": [
       "                 dts         fps\n",
       "batch_size                      \n",
       "1           0.003359  298.019274\n",
       "16          0.020879  766.506251"
      ]
     },
     "execution_count": 3,
     "metadata": {},
     "output_type": "execute_result"
    }
   ],
   "source": [
    "res.groupby(\"batch_size\").mean()"
   ]
  }
 ],
 "metadata": {
  "kernelspec": {
   "display_name": "Python 3",
   "language": "python",
   "name": "python3"
  },
  "language_info": {
   "codemirror_mode": {
    "name": "ipython",
    "version": 3
   },
   "file_extension": ".py",
   "mimetype": "text/x-python",
   "name": "python",
   "nbconvert_exporter": "python",
   "pygments_lexer": "ipython3",
   "version": "3.6.13"
  }
 },
 "nbformat": 4,
 "nbformat_minor": 5
}
