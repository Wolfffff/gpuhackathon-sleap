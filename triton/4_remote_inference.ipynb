{
 "cells": [
  {
   "cell_type": "markdown",
   "id": "fc50b0cd-8ee2-4e50-8e94-e1a7e2265aa3",
   "metadata": {},
   "source": [
    "# Triton Benchmarking using perf_analyzer\n",
    "\n",
    "Straight from https://github.com/triton-inference-server/server/blob/main/docs/perf_analyzer.md"
   ]
  },
  {
   "cell_type": "code",
   "execution_count": 4,
   "id": "2c783dcb-87b9-4101-bac7-465bd083b7a0",
   "metadata": {},
   "outputs": [
    {
     "name": "stdout",
     "output_type": "stream",
     "text": [
      "Looking in indexes: https://pypi.org/simple, https://pypi.ngc.nvidia.com\n",
      "Requirement already satisfied: tritonclient[all] in /root/miniconda3/envs/trt/lib/python3.6/site-packages (2.9.0)\n",
      "Requirement already satisfied: numpy>=1.19.1 in /root/miniconda3/envs/trt/lib/python3.6/site-packages (from tritonclient[all]) (1.19.5)\n",
      "Requirement already satisfied: python-rapidjson>=0.9.1 in /root/miniconda3/envs/trt/lib/python3.6/site-packages (from tritonclient[all]) (1.0)\n",
      "Requirement already satisfied: grpcio>=1.31.0 in /root/miniconda3/envs/trt/lib/python3.6/site-packages (from tritonclient[all]) (1.34.1)\n",
      "Requirement already satisfied: protobuf>=3.5.0 in /root/miniconda3/envs/trt/lib/python3.6/site-packages (from tritonclient[all]) (3.17.1)\n",
      "Requirement already satisfied: geventhttpclient>=1.4.4 in /root/miniconda3/envs/trt/lib/python3.6/site-packages (from tritonclient[all]) (1.4.4)\n",
      "Requirement already satisfied: certifi in /root/miniconda3/envs/trt/lib/python3.6/site-packages (from geventhttpclient>=1.4.4->tritonclient[all]) (2020.12.5)\n",
      "Requirement already satisfied: gevent>=0.13 in /root/miniconda3/envs/trt/lib/python3.6/site-packages (from geventhttpclient>=1.4.4->tritonclient[all]) (21.1.2)\n",
      "Requirement already satisfied: six in /root/miniconda3/envs/trt/lib/python3.6/site-packages (from geventhttpclient>=1.4.4->tritonclient[all]) (1.15.0)\n",
      "Requirement already satisfied: zope.event in /root/miniconda3/envs/trt/lib/python3.6/site-packages (from gevent>=0.13->geventhttpclient>=1.4.4->tritonclient[all]) (4.5.0)\n",
      "Requirement already satisfied: zope.interface in /root/miniconda3/envs/trt/lib/python3.6/site-packages (from gevent>=0.13->geventhttpclient>=1.4.4->tritonclient[all]) (5.4.0)\n",
      "Requirement already satisfied: greenlet<2.0,>=0.4.17 in /root/miniconda3/envs/trt/lib/python3.6/site-packages (from gevent>=0.13->geventhttpclient>=1.4.4->tritonclient[all]) (1.1.0)\n",
      "Requirement already satisfied: setuptools in /root/miniconda3/envs/trt/lib/python3.6/site-packages (from gevent>=0.13->geventhttpclient>=1.4.4->tritonclient[all]) (52.0.0.post20210125)\n",
      "\u001b[33mWARNING: Running pip as root will break packages and permissions. You should install packages reliably by using venv: https://pip.pypa.io/warnings/venv\u001b[0m\n",
      "Reading package lists... Done\n",
      "Building dependency tree       \n",
      "Reading state information... Done\n",
      "The following additional packages will be installed:\n",
      "  libb64-0d\n",
      "The following NEW packages will be installed:\n",
      "  libb64-0d libb64-dev\n",
      "0 upgraded, 2 newly installed, 0 to remove and 37 not upgraded.\n",
      "Need to get 14.7 kB of archives.\n",
      "After this operation, 62.5 kB of additional disk space will be used.\n",
      "Get:1 http://archive.ubuntu.com/ubuntu focal/universe amd64 libb64-0d amd64 1.2-5 [9324 B]\n",
      "Get:2 http://archive.ubuntu.com/ubuntu focal/universe amd64 libb64-dev amd64 1.2-5 [5336 B]\n",
      "Fetched 14.7 kB in 0s (55.3 kB/s)   \u001b[0m\u001b[33m\n",
      "debconf: delaying package configuration, since apt-utils is not installed\n",
      "\n",
      "\u001b7\u001b[0;23r\u001b8\u001b[1ASelecting previously unselected package libb64-0d:amd64.\n",
      "(Reading database ... 17378 files and directories currently installed.)\n",
      "Preparing to unpack .../libb64-0d_1.2-5_amd64.deb ...\n",
      "\u001b7\u001b[24;0f\u001b[42m\u001b[30mProgress: [  0%]\u001b[49m\u001b[39m [..........................................................] \u001b8\u001b7\u001b[24;0f\u001b[42m\u001b[30mProgress: [ 11%]\u001b[49m\u001b[39m [######....................................................] \u001b8Unpacking libb64-0d:amd64 (1.2-5) ...\n",
      "\u001b7\u001b[24;0f\u001b[42m\u001b[30mProgress: [ 22%]\u001b[49m\u001b[39m [############..............................................] \u001b8Selecting previously unselected package libb64-dev:amd64.\n",
      "Preparing to unpack .../libb64-dev_1.2-5_amd64.deb ...\n",
      "\u001b7\u001b[24;0f\u001b[42m\u001b[30mProgress: [ 33%]\u001b[49m\u001b[39m [###################.......................................] \u001b8Unpacking libb64-dev:amd64 (1.2-5) ...\n",
      "\u001b7\u001b[24;0f\u001b[42m\u001b[30mProgress: [ 44%]\u001b[49m\u001b[39m [#########################.................................] \u001b8Setting up libb64-0d:amd64 (1.2-5) ...\n",
      "\u001b7\u001b[24;0f\u001b[42m\u001b[30mProgress: [ 56%]\u001b[49m\u001b[39m [################################..........................] \u001b8\u001b7\u001b[24;0f\u001b[42m\u001b[30mProgress: [ 67%]\u001b[49m\u001b[39m [######################################....................] \u001b8Setting up libb64-dev:amd64 (1.2-5) ...\n",
      "\u001b7\u001b[24;0f\u001b[42m\u001b[30mProgress: [ 78%]\u001b[49m\u001b[39m [#############################################.............] \u001b8\u001b7\u001b[24;0f\u001b[42m\u001b[30mProgress: [ 89%]\u001b[49m\u001b[39m [###################################################.......] \u001b8Processing triggers for libc-bin (2.31-0ubuntu9.2) ...\n",
      "\n",
      "\u001b7\u001b[0;24r\u001b8\u001b[1A\u001b[J"
     ]
    }
   ],
   "source": [
    "!pip install tritonclient[all]\n",
    "!apt install libb64-dev -y"
   ]
  },
  {
   "cell_type": "code",
   "execution_count": 22,
   "id": "5a3a4dbe-cf7e-4425-9678-b5a3a0abc11a",
   "metadata": {},
   "outputs": [
    {
     "name": "stdout",
     "output_type": "stream",
     "text": [
      "*** Measurement Settings ***\n",
      "  Batch size: 1\n",
      "  Measurement window: 5000 msec\n",
      "  Latency limit: 0 msec\n",
      "  Concurrency limit: 15 concurrent requests\n",
      "  Using synchronous calls for inference\n",
      "  Stabilizing using average latency\n",
      "\n",
      "Request concurrency: 5\n",
      "Failed to maintain requested inference load. Worker thread(s) failed to generate concurrent requests.\n",
      "Thread [0] had error: Socket closed\n",
      "Thread [1] had error: Socket closed\n",
      "Thread [2] had error: Socket closed\n",
      "Thread [3] had error: Socket closed\n",
      "Thread [4] had error: GOAWAY received\n"
     ]
    }
   ],
   "source": [
    "!perf_analyzer -u \"4.tcp.ngrok.io:12904\" -m centroid_savedmodel -b 1 --concurrency-range 5:15 -i grpc --grpc-compression-algorithm gzip"
   ]
  },
  {
   "cell_type": "markdown",
   "id": "638662b8-869b-440e-90c8-54091d120993",
   "metadata": {},
   "source": [
    "Note the --gpus here\n",
    "```bash\n",
    "docker run --gpus=1 --rm -p8000:8000 -p8001:8001 -p8002:8002 -v/home/wolf/git/gpuhackathon-sleap/triton/model_repository:/models nvcr.io/nvidia/tritonserver:21.04-py3 tritonserver --model-repository=/models --metrics-port 8002\n",
    "```"
   ]
  }
 ],
 "metadata": {
  "kernelspec": {
   "display_name": "Python 3",
   "language": "python",
   "name": "python3"
  },
  "language_info": {
   "codemirror_mode": {
    "name": "ipython",
    "version": 3
   },
   "file_extension": ".py",
   "mimetype": "text/x-python",
   "name": "python",
   "nbconvert_exporter": "python",
   "pygments_lexer": "ipython3",
   "version": "3.6.13"
  }
 },
 "nbformat": 4,
 "nbformat_minor": 5
}
