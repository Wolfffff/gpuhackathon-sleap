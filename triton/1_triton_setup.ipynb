{
 "cells": [
  {
   "cell_type": "markdown",
   "id": "f471b8e0-91dc-47d3-a02d-cfe3cb45ef6c",
   "metadata": {},
   "source": [
    "### Simple Triton Setup for SavedModel\n",
    "\n",
    "See: https://github.com/triton-inference-server/server"
   ]
  },
  {
   "cell_type": "raw",
   "id": "4d9c75ec-ebc3-46e1-b69b-a408f79aa585",
   "metadata": {},
   "source": [
    "To start, make sure you are set up to use nvidia docker containers(https://docs.nvidia.com/deeplearning/frameworks/preparing-containers/index.html).\n",
    "\n",
    "\n",
    "Once we have that set up, we simply need to set up a model repository containing our models of choice -- in this case just using the SavedModels.\n",
    "\n",
    "Note here that I had a bit of trouble figuing out the right way to serialize TensorRT models to work with TRTIS, so I ran with the TensorFlow models."
   ]
  },
  {
   "cell_type": "code",
   "execution_count": 22,
   "id": "ff58b1f5-e0f8-4f3c-9c94-b0f2fa63648b",
   "metadata": {},
   "outputs": [],
   "source": [
    "!mkdir -p model_repository/centroid_savedmodel/1/model.savedmodel/\n",
    "!cp -r ../tensorrt/data/centroid_savedmodel/* model_repository/centroid_savedmodel/1/model.savedmodel/\n",
    "\n",
    "!mkdir -p model_repository/td_savedmodel/1/model.savedmodel/\n",
    "!cp -r ../tensorrt/data/td_savedmodel/* model_repository/td_savedmodel/1/model.savedmodel/\n",
    "\n",
    "!mkdir -p model_repository/bu_savedmodel/1/model.savedmodel/\n",
    "!cp -r ../tensorrt/data/bu_savedmodel/* model_repository/bu_savedmodel/1/model.savedmodel/"
   ]
  },
  {
   "cell_type": "markdown",
   "id": "259a3a62-eab5-4e9a-b5aa-1940486fc21e",
   "metadata": {},
   "source": [
    "```{r}\n",
    "docker run --gpus=1 --rm -p8000:8000 -p8001:8001 -p8002:8002 -v/full/path/to/docs/examples/model_repository:/models nvcr.io/nvidia/tritonserver:<xx.yy>-py3 tritonserver --model-repository=/models\n",
    "```"
   ]
  },
  {
   "cell_type": "markdown",
   "id": "9b795c0c-7c49-4b73-ba9b-a6df1c5e9ea1",
   "metadata": {},
   "source": [
    "Now we can quickly make the config files defining our input and output "
   ]
  },
  {
   "cell_type": "code",
   "execution_count": 29,
   "id": "e8a42ba5-c27a-4fda-8b42-f677127873ff",
   "metadata": {},
   "outputs": [],
   "source": [
    "!cp bu_config.pbtxt model_repository/bu_savedmodel/config.pbtxt\n",
    "!cp td_config.pbtxt model_repository/td_savedmodel/config.pbtxt\n",
    "!cp centroid_config.pbtxt model_repository/centroid_savedmodel/config.pbtxt"
   ]
  }
 ],
 "metadata": {
  "kernelspec": {
   "display_name": "Python 3",
   "language": "python",
   "name": "python3"
  },
  "language_info": {
   "codemirror_mode": {
    "name": "ipython",
    "version": 3
   },
   "file_extension": ".py",
   "mimetype": "text/x-python",
   "name": "python",
   "nbconvert_exporter": "python",
   "pygments_lexer": "ipython3",
   "version": "3.6.13"
  }
 },
 "nbformat": 4,
 "nbformat_minor": 5
}
