{
 "cells": [
  {
   "cell_type": "markdown",
   "id": "fc50b0cd-8ee2-4e50-8e94-e1a7e2265aa3",
   "metadata": {},
   "source": [
    "# Client\n",
    "\n",
    "I've included the example image client here(you'll need the densenet_onnx from the Triton repo to run it) but hopefully this will serve as a solid baseline for building up our client structure."
   ]
  },
  {
   "cell_type": "code",
   "execution_count": 1,
   "id": "736ac59c-6a1a-4576-b046-86ca8a9266e8",
   "metadata": {},
   "outputs": [
    {
     "name": "stdout",
     "output_type": "stream",
     "text": [
      "Looking in indexes: https://pypi.org/simple, https://pypi.ngc.nvidia.com\n",
      "Requirement already satisfied: tritonclient[all] in /home/wolf/miniconda3/envs/trt/lib/python3.6/site-packages (2.9.0)\n",
      "Requirement already satisfied: numpy>=1.19.1 in /home/wolf/miniconda3/envs/trt/lib/python3.6/site-packages (from tritonclient[all]) (1.19.5)\n",
      "Requirement already satisfied: python-rapidjson>=0.9.1 in /home/wolf/miniconda3/envs/trt/lib/python3.6/site-packages (from tritonclient[all]) (1.0)\n",
      "Requirement already satisfied: grpcio>=1.31.0 in /home/wolf/miniconda3/envs/trt/lib/python3.6/site-packages (from tritonclient[all]) (1.34.1)\n",
      "Requirement already satisfied: protobuf>=3.5.0 in /home/wolf/miniconda3/envs/trt/lib/python3.6/site-packages (from tritonclient[all]) (3.17.1)\n",
      "Requirement already satisfied: geventhttpclient>=1.4.4 in /home/wolf/miniconda3/envs/trt/lib/python3.6/site-packages (from tritonclient[all]) (1.4.4)\n",
      "Requirement already satisfied: gevent>=0.13 in /home/wolf/miniconda3/envs/trt/lib/python3.6/site-packages (from geventhttpclient>=1.4.4->tritonclient[all]) (21.1.2)\n",
      "Requirement already satisfied: six in /home/wolf/miniconda3/envs/trt/lib/python3.6/site-packages (from geventhttpclient>=1.4.4->tritonclient[all]) (1.15.0)\n",
      "Requirement already satisfied: certifi in /home/wolf/miniconda3/envs/trt/lib/python3.6/site-packages (from geventhttpclient>=1.4.4->tritonclient[all]) (2020.12.5)\n",
      "Requirement already satisfied: setuptools in /home/wolf/miniconda3/envs/trt/lib/python3.6/site-packages (from gevent>=0.13->geventhttpclient>=1.4.4->tritonclient[all]) (52.0.0.post20210125)\n",
      "Requirement already satisfied: zope.interface in /home/wolf/miniconda3/envs/trt/lib/python3.6/site-packages (from gevent>=0.13->geventhttpclient>=1.4.4->tritonclient[all]) (5.4.0)\n",
      "Requirement already satisfied: greenlet<2.0,>=0.4.17 in /home/wolf/miniconda3/envs/trt/lib/python3.6/site-packages (from gevent>=0.13->geventhttpclient>=1.4.4->tritonclient[all]) (1.1.0)\n",
      "Requirement already satisfied: zope.event in /home/wolf/miniconda3/envs/trt/lib/python3.6/site-packages (from gevent>=0.13->geventhttpclient>=1.4.4->tritonclient[all]) (4.5.0)\n"
     ]
    }
   ],
   "source": [
    "!pip install tritonclient[all]"
   ]
  },
  {
   "cell_type": "code",
   "execution_count": 2,
   "id": "8166b018-e9a2-491b-bdd6-0ae6da6b86f2",
   "metadata": {
    "tags": []
   },
   "outputs": [],
   "source": [
    "import triton_utils\n",
    "\n",
    "from PIL import Image\n",
    "import numpy as np\n",
    "from attrdict import AttrDict\n",
    "\n",
    "import tritonclient.grpc as grpcclient\n",
    "import tritonclient.grpc.model_config_pb2 as mc\n",
    "import tritonclient.http as httpclient\n",
    "from tritonclient.utils import InferenceServerException\n",
    "from tritonclient.utils import triton_to_np_dtype\n",
    "import cv2"
   ]
  },
  {
   "cell_type": "code",
   "execution_count": 3,
   "id": "17f78ba7-0098-472b-8c57-a0885dafa80d",
   "metadata": {},
   "outputs": [],
   "source": [
    "def read_frames(video_path, fidxs=None, grayscale=True):\n",
    "    \"\"\"Read frames from a video file.\n",
    "    \n",
    "    Args:\n",
    "        video_path: Path to MP4\n",
    "        fidxs: List of frame indices or None to read all frames (default: None)\n",
    "        grayscale: Keep only one channel of the images (default: True)\n",
    "    \n",
    "    Returns:\n",
    "        Loaded images in array of shape (n_frames, height, width, channels) and dtype uint8.\n",
    "    \"\"\"\n",
    "    vr = cv2.VideoCapture(video_path)\n",
    "    if fidxs is None:\n",
    "        fidxs = np.arange(vr.get(cv2.CAP_PROP_FRAME_COUNT))\n",
    "    frames = []\n",
    "    for fidx in fidxs:\n",
    "        vr.set(cv2.CAP_PROP_POS_FRAMES, fidx)\n",
    "        img = vr.read()[1]\n",
    "        if grayscale:\n",
    "            img = img[:, :, [0]]\n",
    "        frames.append(img)\n",
    "    return np.stack(frames, axis=0)"
   ]
  },
  {
   "cell_type": "code",
   "execution_count": 4,
   "id": "4969716e-a076-4e2c-982e-ada560544aab",
   "metadata": {},
   "outputs": [],
   "source": [
    "test_data = \"../tensorrt/data/190719_090330_wt_18159206_rig1.2@15000-17560.mp4\"\n",
    "image_data = read_frames(test_data,np.arange(1))"
   ]
  },
  {
   "cell_type": "code",
   "execution_count": 5,
   "id": "3c4acf87-17a7-4647-bc23-3481e117d484",
   "metadata": {},
   "outputs": [],
   "source": [
    "from triton_utils import parse_model\n",
    "from triton_utils import UserData\n",
    "from triton_utils import requestGenerator"
   ]
  },
  {
   "cell_type": "code",
   "execution_count": 6,
   "id": "79790742-09cb-4ad2-8860-a670855bee87",
   "metadata": {},
   "outputs": [],
   "source": [
    "url = 'localhost:8001'\n",
    "model_name = \"bu_savedmodel\"\n",
    "model_version=\"1\"\n",
    "protocol = 'grpc'\n",
    "triton_client = grpcclient.InferenceServerClient(\n",
    "                url=url)"
   ]
  },
  {
   "cell_type": "code",
   "execution_count": 7,
   "id": "fa28d957-876d-4f3a-8391-c735b752ba8d",
   "metadata": {},
   "outputs": [],
   "source": [
    "model_metadata = triton_client.get_model_metadata(model_name=model_name, model_version=model_version)\n",
    "\n",
    "model_config = triton_client.get_model_config(model_name=model_name, model_version=model_version)\n",
    "\n",
    "model_config = model_config.config\n",
    "\n",
    "max_batch_size, input_name, output_name, c, h, w, format, dtype = parse_model(\n",
    "        model_metadata, model_config)"
   ]
  },
  {
   "cell_type": "code",
   "execution_count": 8,
   "id": "f5c52526-f810-4f5d-bb52-d2650a21e10b",
   "metadata": {},
   "outputs": [],
   "source": [
    "requests = []\n",
    "responses = []\n",
    "result_filenames = []\n",
    "request_ids = []\n",
    "image_idx = 0\n",
    "last_request = False\n",
    "user_data = UserData()\n",
    "\n",
    "sent_count = 0"
   ]
  },
  {
   "cell_type": "code",
   "execution_count": 10,
   "id": "89ab2a84-c93a-4dd8-af70-7e9e42515069",
   "metadata": {},
   "outputs": [
    {
     "ename": "TypeError",
     "evalue": "requestGenerator() got an unexpected keyword argument 'protocol'",
     "output_type": "error",
     "traceback": [
      "\u001b[0;31m---------------------------------------------------------------------------\u001b[0m",
      "\u001b[0;31mTypeError\u001b[0m                                 Traceback (most recent call last)",
      "\u001b[0;32m<ipython-input-10-9f87877e26ce>\u001b[0m in \u001b[0;36m<module>\u001b[0;34m\u001b[0m\n\u001b[1;32m      1\u001b[0m \u001b[0mbatched_image_data\u001b[0m \u001b[0;34m=\u001b[0m \u001b[0mimage_data\u001b[0m\u001b[0;34m\u001b[0m\u001b[0;34m\u001b[0m\u001b[0m\n\u001b[1;32m      2\u001b[0m for inputs, outputs in requestGenerator(\n\u001b[0;32m----> 3\u001b[0;31m         batched_image_data[0].astype('float32'), input_name, output_name, dtype, protocol=protocol):\n\u001b[0m\u001b[1;32m      4\u001b[0m     \u001b[0msent_count\u001b[0m \u001b[0;34m+=\u001b[0m \u001b[0;36m1\u001b[0m\u001b[0;34m\u001b[0m\u001b[0;34m\u001b[0m\u001b[0m\n\u001b[1;32m      5\u001b[0m     \u001b[0mprint\u001b[0m\u001b[0;34m(\u001b[0m\u001b[0moutputs\u001b[0m\u001b[0;34m)\u001b[0m\u001b[0;34m\u001b[0m\u001b[0;34m\u001b[0m\u001b[0m\n",
      "\u001b[0;31mTypeError\u001b[0m: requestGenerator() got an unexpected keyword argument 'protocol'"
     ]
    }
   ],
   "source": [
    "batched_image_data = image_data\n",
    "for inputs, outputs in requestGenerator(\n",
    "        batched_image_data[0].astype('float32'), input_name, output_name, dtype, protocol=protocol):\n",
    "    sent_count += 1\n",
    "    print(outputs)\n",
    "    responses.append(triton_client.infer(model_name,\n",
    "                                inputs.astype('float32'),\n",
    "                                request_id=str(sent_count),\n",
    "                                model_version=model_version,\n",
    "                                outputs=outputs))"
   ]
  },
  {
   "cell_type": "code",
   "execution_count": null,
   "id": "cd908518-d245-4517-be51-cbe9757e1a37",
   "metadata": {},
   "outputs": [],
   "source": [
    "triton_client.infer(model_name,\n",
    "                                inputs,\n",
    "                                request_id=str(sent_count),\n",
    "                                model_version=model_version,\n",
    "                                outputs=outputs)"
   ]
  },
  {
   "cell_type": "code",
   "execution_count": null,
   "id": "29b18ba1-ce60-48ca-8708-45d94205d54a",
   "metadata": {},
   "outputs": [],
   "source": []
  }
 ],
 "metadata": {
  "kernelspec": {
   "display_name": "Python 3",
   "language": "python",
   "name": "python3"
  },
  "language_info": {
   "codemirror_mode": {
    "name": "ipython",
    "version": 3
   },
   "file_extension": ".py",
   "mimetype": "text/x-python",
   "name": "python",
   "nbconvert_exporter": "python",
   "pygments_lexer": "ipython3",
   "version": "3.6.13"
  }
 },
 "nbformat": 4,
 "nbformat_minor": 5
}
