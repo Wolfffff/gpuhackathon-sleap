{
 "cells": [
  {
   "cell_type": "markdown",
   "id": "fc50b0cd-8ee2-4e50-8e94-e1a7e2265aa3",
   "metadata": {},
   "source": [
    "# Client\n",
    "\n",
    "I've included the example image client here(you'll need the densenet_onnx from the Triton repo to run it) but hopefully this will serve as a solid baseline for building up our client structure."
   ]
  },
  {
   "cell_type": "code",
   "execution_count": 1,
   "id": "736ac59c-6a1a-4576-b046-86ca8a9266e8",
   "metadata": {},
   "outputs": [
    {
     "name": "stdout",
     "output_type": "stream",
     "text": [
      "Looking in indexes: https://pypi.org/simple, https://pypi.ngc.nvidia.com\n",
      "Collecting tritonclient[all]\n",
      "  Downloading https://developer.download.nvidia.com/compute/redist/tritonclient/tritonclient-2.9.0-py3-none-manylinux1_x86_64.whl (8.4 MB)\n",
      "\u001b[K     |████████████████████████████████| 8.4 MB 11.4 MB/s eta 0:00:01\n",
      "\u001b[?25hCollecting python-rapidjson>=0.9.1\n",
      "  Downloading python_rapidjson-1.0-cp36-cp36m-manylinux2010_x86_64.whl (1.4 MB)\n",
      "\u001b[K     |████████████████████████████████| 1.4 MB 12.4 MB/s eta 0:00:01\n",
      "\u001b[?25hRequirement already satisfied: numpy>=1.19.1 in /root/miniconda3/envs/trt/lib/python3.6/site-packages (from tritonclient[all]) (1.19.5)\n",
      "Collecting geventhttpclient>=1.4.4\n",
      "  Downloading geventhttpclient-1.4.4-cp36-cp36m-manylinux2010_x86_64.whl (76 kB)\n",
      "\u001b[K     |████████████████████████████████| 76 kB 13.5 MB/s eta 0:00:01\n",
      "\u001b[?25hRequirement already satisfied: protobuf>=3.5.0 in /root/miniconda3/envs/trt/lib/python3.6/site-packages (from tritonclient[all]) (3.17.1)\n",
      "Requirement already satisfied: grpcio>=1.31.0 in /root/miniconda3/envs/trt/lib/python3.6/site-packages (from tritonclient[all]) (1.34.1)\n",
      "Requirement already satisfied: certifi in /root/miniconda3/envs/trt/lib/python3.6/site-packages (from geventhttpclient>=1.4.4->tritonclient[all]) (2020.12.5)\n",
      "Collecting gevent>=0.13\n",
      "  Downloading gevent-21.1.2-cp36-cp36m-manylinux2010_x86_64.whl (5.5 MB)\n",
      "\u001b[K     |████████████████████████████████| 5.5 MB 8.0 MB/s eta 0:00:01\n",
      "\u001b[?25hRequirement already satisfied: six in /root/miniconda3/envs/trt/lib/python3.6/site-packages (from geventhttpclient>=1.4.4->tritonclient[all]) (1.15.0)\n",
      "Collecting zope.event\n",
      "  Downloading zope.event-4.5.0-py2.py3-none-any.whl (6.8 kB)\n",
      "Collecting zope.interface\n",
      "  Downloading zope.interface-5.4.0-cp36-cp36m-manylinux2010_x86_64.whl (251 kB)\n",
      "\u001b[K     |████████████████████████████████| 251 kB 11.3 MB/s eta 0:00:01\n",
      "\u001b[?25hCollecting greenlet<2.0,>=0.4.17\n",
      "  Downloading greenlet-1.1.0-cp36-cp36m-manylinux_2_17_x86_64.manylinux2014_x86_64.whl (155 kB)\n",
      "\u001b[K     |████████████████████████████████| 155 kB 11.5 MB/s eta 0:00:01\n",
      "\u001b[?25hRequirement already satisfied: setuptools in /root/miniconda3/envs/trt/lib/python3.6/site-packages (from gevent>=0.13->geventhttpclient>=1.4.4->tritonclient[all]) (52.0.0.post20210125)\n",
      "Installing collected packages: zope.interface, zope.event, greenlet, python-rapidjson, gevent, tritonclient, geventhttpclient\n",
      "Successfully installed gevent-21.1.2 geventhttpclient-1.4.4 greenlet-1.1.0 python-rapidjson-1.0 tritonclient-2.9.0 zope.event-4.5.0 zope.interface-5.4.0\n",
      "\u001b[33mWARNING: Running pip as root will break packages and permissions. You should install packages reliably by using venv: https://pip.pypa.io/warnings/venv\u001b[0m\n"
     ]
    }
   ],
   "source": [
    "!pip install tritonclient[all]"
   ]
  },
  {
   "cell_type": "code",
   "execution_count": 1,
   "id": "8166b018-e9a2-491b-bdd6-0ae6da6b86f2",
   "metadata": {
    "tags": []
   },
   "outputs": [
    {
     "name": "stdout",
     "output_type": "stream",
     "text": [
      "--2021-05-26 23:05:15--  https://raw.githubusercontent.com/Wolfffff/gpuhackathon-sleap/main/triton/triton_utils.py\n",
      "Resolving raw.githubusercontent.com (raw.githubusercontent.com)... 185.199.108.133, 185.199.111.133, 185.199.110.133, ...\n",
      "Connecting to raw.githubusercontent.com (raw.githubusercontent.com)|185.199.108.133|:443... connected.\n",
      "HTTP request sent, awaiting response... 200 OK\n",
      "Length: 4555 (4.4K) [text/plain]\n",
      "Saving to: ‘triton_utils.py.1’\n",
      "\n",
      "triton_utils.py.1   100%[===================>]   4.45K  --.-KB/s    in 0s      \n",
      "\n",
      "2021-05-26 23:05:15 (10.5 MB/s) - ‘triton_utils.py.1’ saved [4555/4555]\n",
      "\n"
     ]
    },
    {
     "ename": "ModuleNotFoundError",
     "evalue": "No module named 'attrdict'",
     "output_type": "error",
     "traceback": [
      "\u001b[0;31m---------------------------------------------------------------------------\u001b[0m",
      "\u001b[0;31mModuleNotFoundError\u001b[0m                       Traceback (most recent call last)",
      "\u001b[0;32m<ipython-input-1-7d684ae237ac>\u001b[0m in \u001b[0;36m<module>\u001b[0;34m\u001b[0m\n\u001b[1;32m      1\u001b[0m \u001b[0mget_ipython\u001b[0m\u001b[0;34m(\u001b[0m\u001b[0;34m)\u001b[0m\u001b[0;34m.\u001b[0m\u001b[0msystem\u001b[0m\u001b[0;34m(\u001b[0m\u001b[0;34m'wget https://raw.githubusercontent.com/Wolfffff/gpuhackathon-sleap/main/triton/triton_utils.py'\u001b[0m\u001b[0;34m)\u001b[0m\u001b[0;34m\u001b[0m\u001b[0;34m\u001b[0m\u001b[0m\n\u001b[1;32m      2\u001b[0m \u001b[0;34m\u001b[0m\u001b[0m\n\u001b[0;32m----> 3\u001b[0;31m \u001b[0;32mfrom\u001b[0m \u001b[0mtriton_utils\u001b[0m \u001b[0;32mimport\u001b[0m \u001b[0mparse_model\u001b[0m\u001b[0;34m\u001b[0m\u001b[0;34m\u001b[0m\u001b[0m\n\u001b[0m\u001b[1;32m      4\u001b[0m \u001b[0;32mfrom\u001b[0m \u001b[0mtriton_utils\u001b[0m \u001b[0;32mimport\u001b[0m \u001b[0mUserData\u001b[0m\u001b[0;34m\u001b[0m\u001b[0;34m\u001b[0m\u001b[0m\n\u001b[1;32m      5\u001b[0m \u001b[0;32mfrom\u001b[0m \u001b[0mtriton_utils\u001b[0m \u001b[0;32mimport\u001b[0m \u001b[0mrequestGenerator\u001b[0m\u001b[0;34m\u001b[0m\u001b[0;34m\u001b[0m\u001b[0m\n",
      "\u001b[0;32m/mnt/triton/triton_utils.py\u001b[0m in \u001b[0;36m<module>\u001b[0;34m\u001b[0m\n\u001b[1;32m      8\u001b[0m \u001b[0;32mfrom\u001b[0m \u001b[0mPIL\u001b[0m \u001b[0;32mimport\u001b[0m \u001b[0mImage\u001b[0m\u001b[0;34m\u001b[0m\u001b[0;34m\u001b[0m\u001b[0m\n\u001b[1;32m      9\u001b[0m \u001b[0;32mimport\u001b[0m \u001b[0mnumpy\u001b[0m \u001b[0;32mas\u001b[0m \u001b[0mnp\u001b[0m\u001b[0;34m\u001b[0m\u001b[0;34m\u001b[0m\u001b[0m\n\u001b[0;32m---> 10\u001b[0;31m \u001b[0;32mfrom\u001b[0m \u001b[0mattrdict\u001b[0m \u001b[0;32mimport\u001b[0m \u001b[0mAttrDict\u001b[0m\u001b[0;34m\u001b[0m\u001b[0;34m\u001b[0m\u001b[0m\n\u001b[0m\u001b[1;32m     11\u001b[0m \u001b[0;34m\u001b[0m\u001b[0m\n\u001b[1;32m     12\u001b[0m \u001b[0;32mimport\u001b[0m \u001b[0mtritonclient\u001b[0m\u001b[0;34m.\u001b[0m\u001b[0mgrpc\u001b[0m \u001b[0;32mas\u001b[0m \u001b[0mgrpcclient\u001b[0m\u001b[0;34m\u001b[0m\u001b[0;34m\u001b[0m\u001b[0m\n",
      "\u001b[0;31mModuleNotFoundError\u001b[0m: No module named 'attrdict'"
     ]
    }
   ],
   "source": [
    "!wget https://raw.githubusercontent.com/Wolfffff/gpuhackathon-sleap/main/triton/triton_utils.py\n",
    "\n",
    "from triton_utils import parse_model\n",
    "from triton_utils import UserData\n",
    "from triton_utils import requestGenerator\n",
    "\n",
    "import numpy as np\n",
    "import cv2\n",
    "import tensorflow as tf\n",
    "import tritonclient.grpc as grpcclient"
   ]
  },
  {
   "cell_type": "code",
   "execution_count": 3,
   "id": "17f78ba7-0098-472b-8c57-a0885dafa80d",
   "metadata": {},
   "outputs": [],
   "source": [
    "def read_frames(video_path, fidxs=None, grayscale=True):\n",
    "    \"\"\"Read frames from a video file.\n",
    "    \n",
    "    Args:\n",
    "        video_path: Path to MP4\n",
    "        fidxs: List of frame indices or None to read all frames (default: None)\n",
    "        grayscale: Keep only one channel of the images (default: True)\n",
    "    \n",
    "    Returns:\n",
    "        Loaded images in array of shape (n_frames, height, width, channels) and dtype uint8.\n",
    "    \"\"\"\n",
    "    vr = cv2.VideoCapture(video_path)\n",
    "    if fidxs is None:\n",
    "        fidxs = np.arange(vr.get(cv2.CAP_PROP_FRAME_COUNT))\n",
    "    frames = []\n",
    "    for fidx in fidxs:\n",
    "        vr.set(cv2.CAP_PROP_POS_FRAMES, fidx)\n",
    "        img = vr.read()[1]\n",
    "        if grayscale:\n",
    "            img = img[:, :, [0]]\n",
    "        frames.append(img)\n",
    "    return np.stack(frames, axis=0)"
   ]
  },
  {
   "cell_type": "code",
   "execution_count": 4,
   "id": "4969716e-a076-4e2c-982e-ada560544aab",
   "metadata": {},
   "outputs": [],
   "source": [
    "test_data = \"../tensorrt/data/190719_090330_wt_18159206_rig1.2@15000-17560.mp4\"\n",
    "image_data = read_frames(test_data,np.arange(16)).astype('float32')\n"
   ]
  },
  {
   "cell_type": "code",
   "execution_count": 5,
   "id": "885e43a3-67f0-4e36-8f97-c391d42aa3f1",
   "metadata": {},
   "outputs": [],
   "source": [
    "# Resize depending on the model we're actually going to use -- full for bu, 0.5 scale for centroid\n",
    "image_data = tf.image.resize(image_data,size=(512,512)).numpy()"
   ]
  },
  {
   "cell_type": "code",
   "execution_count": 6,
   "id": "79790742-09cb-4ad2-8860-a670855bee87",
   "metadata": {},
   "outputs": [],
   "source": [
    "\n",
    "url = 'localhost:8001'\n",
    "model_name = \"centroid_savedmodel\"\n",
    "model_version=\"1\"\n",
    "protocol = 'grpc'\n",
    "triton_client = grpcclient.InferenceServerClient(\n",
    "                url=url)"
   ]
  },
  {
   "cell_type": "code",
   "execution_count": 7,
   "id": "fa28d957-876d-4f3a-8391-c735b752ba8d",
   "metadata": {},
   "outputs": [],
   "source": [
    "model_metadata = triton_client.get_model_metadata(model_name=model_name, model_version=model_version)\n",
    "\n",
    "model_config = triton_client.get_model_config(model_name=model_name, model_version=model_version)\n",
    "\n",
    "model_config = model_config.config\n",
    "\n",
    "max_batch_size, input_name, output_name, c, h, w, format, dtype = parse_model(model_metadata, model_config)\n",
    "\n",
    "# Fix output names for when we have multiple\n",
    "output_names = [model.name for model in model_metadata.outputs]"
   ]
  },
  {
   "cell_type": "code",
   "execution_count": 8,
   "id": "f5c52526-f810-4f5d-bb52-d2650a21e10b",
   "metadata": {},
   "outputs": [],
   "source": [
    "requests = []\n",
    "responses = []\n",
    "result_filenames = []\n",
    "request_ids = []\n",
    "image_idx = 0\n",
    "last_request = False\n",
    "user_data = UserData()\n",
    "\n",
    "sent_count = 0"
   ]
  },
  {
   "cell_type": "code",
   "execution_count": 9,
   "id": "89ab2a84-c93a-4dd8-af70-7e9e42515069",
   "metadata": {},
   "outputs": [],
   "source": [
    "# Pair request generator \n",
    "for inputs, outputs,model_name, model_version in requestGenerator(\n",
    "        image_data, input_name, output_names, dtype, protocol,model_name,model_version):\n",
    "    sent_count += 1\n",
    "    responses.append(triton_client.infer(model_name,\n",
    "                                inputs,\n",
    "                                request_id=str(sent_count),\n",
    "                                model_version=model_version,\n",
    "                                outputs=outputs))"
   ]
  },
  {
   "cell_type": "code",
   "execution_count": 2,
   "id": "5c217086-6351-40a8-8125-ee5d8647cfc0",
   "metadata": {},
   "outputs": [
    {
     "ename": "NameError",
     "evalue": "name 'responses' is not defined",
     "output_type": "error",
     "traceback": [
      "\u001b[0;31m---------------------------------------------------------------------------\u001b[0m",
      "\u001b[0;31mNameError\u001b[0m                                 Traceback (most recent call last)",
      "\u001b[0;32m<ipython-input-2-77eab0a578c3>\u001b[0m in \u001b[0;36m<module>\u001b[0;34m\u001b[0m\n\u001b[1;32m      1\u001b[0m \u001b[0;32mimport\u001b[0m \u001b[0mmatplotlib\u001b[0m\u001b[0;34m.\u001b[0m\u001b[0mpyplot\u001b[0m \u001b[0;32mas\u001b[0m \u001b[0mplt\u001b[0m\u001b[0;34m\u001b[0m\u001b[0;34m\u001b[0m\u001b[0m\n\u001b[1;32m      2\u001b[0m \u001b[0;34m\u001b[0m\u001b[0m\n\u001b[0;32m----> 3\u001b[0;31m \u001b[0mplt\u001b[0m\u001b[0;34m.\u001b[0m\u001b[0mimshow\u001b[0m\u001b[0;34m(\u001b[0m\u001b[0mresponses\u001b[0m\u001b[0;34m[\u001b[0m\u001b[0;36m0\u001b[0m\u001b[0;34m]\u001b[0m\u001b[0;34m.\u001b[0m\u001b[0mas_numpy\u001b[0m\u001b[0;34m(\u001b[0m\u001b[0moutput_names\u001b[0m\u001b[0;34m[\u001b[0m\u001b[0;36m0\u001b[0m\u001b[0;34m]\u001b[0m\u001b[0;34m)\u001b[0m\u001b[0;34m[\u001b[0m\u001b[0;36m15\u001b[0m\u001b[0;34m]\u001b[0m\u001b[0;34m)\u001b[0m\u001b[0;34m\u001b[0m\u001b[0;34m\u001b[0m\u001b[0m\n\u001b[0m",
      "\u001b[0;31mNameError\u001b[0m: name 'responses' is not defined"
     ]
    }
   ],
   "source": [
    "import matplotlib.pyplot as plt\n",
    "\n",
    "plt.imshow(responses[0].as_numpy(output_names[0])[15])"
   ]
  },
  {
   "cell_type": "code",
   "execution_count": null,
   "id": "2523491b-19af-4d05-9103-445f4b6f48c9",
   "metadata": {},
   "outputs": [],
   "source": []
  }
 ],
 "metadata": {
  "kernelspec": {
   "display_name": "Python 3",
   "language": "python",
   "name": "python3"
  },
  "language_info": {
   "codemirror_mode": {
    "name": "ipython",
    "version": 3
   },
   "file_extension": ".py",
   "mimetype": "text/x-python",
   "name": "python",
   "nbconvert_exporter": "python",
   "pygments_lexer": "ipython3",
   "version": "3.6.13"
  }
 },
 "nbformat": 4,
 "nbformat_minor": 5
}
